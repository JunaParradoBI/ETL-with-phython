{
 "cells": [
  {
   "cell_type": "markdown",
   "metadata": {},
   "source": [
    "# Worlds Bank data ETL"
   ]
  },
  {
   "cell_type": "markdown",
   "metadata": {},
   "source": [
    "This data source is downloaded from the following webpage: [World Bank Health, Nutrition, and Population Statistics](https://databank.worldbank.org/source/health-nutrition-and-population-statistics/Type/TABLE/preview/on#) into an Excel file. The main objective of this project is to display only the required information for the selected country and desired series, then transform and store it in a SQL database so that it can be accessed by multiple users in the future. The database will include the names of the variables that compose it. This ETL process simplifies the cleaning and storage of the desired information in a specific format within a data warehouse, making it easier for future consultations."
   ]
  },
  {
   "cell_type": "markdown",
   "metadata": {},
   "source": [
    "## Extract\n",
    "Extract information and store it as a dataframe"
   ]
  },
  {
   "cell_type": "code",
   "execution_count": 15,
   "metadata": {},
   "outputs": [],
   "source": [
    "import pandas as pd\n",
    "from sqlalchemy import create_engine\n",
    "\n",
    "# Path to the Excel file\n",
    "folder_path = r\"C:\\Users\\Juan Esteban\\Desktop\\Proyectos Python\\04. ETL\"\n",
    "import os\n",
    "\n",
    "# Read the Excel file into a pandas DataFrame\n",
    "df = pd.read_excel(r\"C:\\Users\\Juan Esteban\\Desktop\\Proyectos Python\\04. ETL\\Population_Statistics.xlsx\", sheet_name='Data')\n",
    "\n",
    "# Data preview: Use these commands to explore the data.\n",
    "# df.columns # Name of the columns\n",
    "# df['Series Name'].unique() # Unique information in the 'Series Name' column\n"
   ]
  },
  {
   "cell_type": "markdown",
   "metadata": {},
   "source": [
    "## Transform\n",
    "Transform information to make it easier to analyze: In this case, we are separating the information according to its categories."
   ]
  },
  {
   "cell_type": "code",
   "execution_count": 16,
   "metadata": {},
   "outputs": [
    {
     "data": {
      "text/html": [
       "<div>\n",
       "<style scoped>\n",
       "    .dataframe tbody tr th:only-of-type {\n",
       "        vertical-align: middle;\n",
       "    }\n",
       "\n",
       "    .dataframe tbody tr th {\n",
       "        vertical-align: top;\n",
       "    }\n",
       "\n",
       "    .dataframe thead th {\n",
       "        text-align: right;\n",
       "    }\n",
       "</style>\n",
       "<table border=\"1\" class=\"dataframe\">\n",
       "  <thead>\n",
       "    <tr style=\"text-align: right;\">\n",
       "      <th></th>\n",
       "      <th>Series Name</th>\n",
       "      <th>Series Code</th>\n",
       "      <th>Country Name</th>\n",
       "      <th>Country Code</th>\n",
       "      <th>2014 [YR2014]</th>\n",
       "      <th>2015 [YR2015]</th>\n",
       "      <th>2016 [YR2016]</th>\n",
       "      <th>2017 [YR2017]</th>\n",
       "      <th>2018 [YR2018]</th>\n",
       "      <th>2019 [YR2019]</th>\n",
       "      <th>2020 [YR2020]</th>\n",
       "      <th>2021 [YR2021]</th>\n",
       "      <th>2022 [YR2022]</th>\n",
       "      <th>2023 [YR2023]</th>\n",
       "    </tr>\n",
       "  </thead>\n",
       "  <tbody>\n",
       "    <tr>\n",
       "      <th>224</th>\n",
       "      <td>Unemployment, total (% of total labor force)</td>\n",
       "      <td>SL.UEM.TOTL.ZS</td>\n",
       "      <td>Argentina</td>\n",
       "      <td>ARG</td>\n",
       "      <td>7.268</td>\n",
       "      <td>7.58</td>\n",
       "      <td>8.083</td>\n",
       "      <td>8.347</td>\n",
       "      <td>9.221</td>\n",
       "      <td>9.843</td>\n",
       "      <td>11.461</td>\n",
       "      <td>8.736</td>\n",
       "      <td>6.805</td>\n",
       "      <td>6.178</td>\n",
       "    </tr>\n",
       "    <tr>\n",
       "      <th>225</th>\n",
       "      <td>Unemployment, total (% of total labor force)</td>\n",
       "      <td>SL.UEM.TOTL.ZS</td>\n",
       "      <td>Armenia</td>\n",
       "      <td>ARM</td>\n",
       "      <td>12.201</td>\n",
       "      <td>12.468</td>\n",
       "      <td>12.732</td>\n",
       "      <td>12.968</td>\n",
       "      <td>13.212</td>\n",
       "      <td>12.2</td>\n",
       "      <td>12.18</td>\n",
       "      <td>10.012</td>\n",
       "      <td>8.608</td>\n",
       "      <td>8.586</td>\n",
       "    </tr>\n",
       "  </tbody>\n",
       "</table>\n",
       "</div>"
      ],
      "text/plain": [
       "                                      Series Name     Series Code  \\\n",
       "224  Unemployment, total (% of total labor force)  SL.UEM.TOTL.ZS   \n",
       "225  Unemployment, total (% of total labor force)  SL.UEM.TOTL.ZS   \n",
       "\n",
       "    Country Name Country Code 2014 [YR2014] 2015 [YR2015] 2016 [YR2016]  \\\n",
       "224    Argentina          ARG         7.268          7.58         8.083   \n",
       "225      Armenia          ARM        12.201        12.468        12.732   \n",
       "\n",
       "    2017 [YR2017] 2018 [YR2018] 2019 [YR2019] 2020 [YR2020] 2021 [YR2021]  \\\n",
       "224         8.347         9.221         9.843        11.461         8.736   \n",
       "225        12.968        13.212          12.2         12.18        10.012   \n",
       "\n",
       "    2022 [YR2022] 2023 [YR2023]  \n",
       "224         6.805         6.178  \n",
       "225         8.608         8.586  "
      ]
     },
     "execution_count": 16,
     "metadata": {},
     "output_type": "execute_result"
    }
   ],
   "source": [
    "# Define the texts you want to filter\n",
    "filter_series_name = ['Unemployment, total (% of total labor force)']\n",
    "\n",
    "# Define the countries you want to filter in 'Country Name'\n",
    "filter_country_name = ['Argentina', 'Armenia']\n",
    "\n",
    "# Apply both filters\n",
    "df2 = df[(df['Series Name'].isin(filter_series_name)) & (df['Country Name'].isin(filter_country_name))]\n",
    "\n",
    "# Preview the data frame\n",
    "df2"
   ]
  },
  {
   "cell_type": "markdown",
   "metadata": {},
   "source": [
    "Exclude unecesary columns"
   ]
  },
  {
   "cell_type": "code",
   "execution_count": 27,
   "metadata": {},
   "outputs": [
    {
     "data": {
      "text/plain": [
       "['Series Code', 'Country Code']"
      ]
     },
     "execution_count": 27,
     "metadata": {},
     "output_type": "execute_result"
    }
   ],
   "source": [
    "# Chose the columns to exclude\n",
    "columns_to_exclude = ['Series Code','Country Code']\n",
    "\n",
    "# Create a new DataFrame excluding those columns\n",
    "df3 = df2.drop(columns=columns_to_exclude)\n"
   ]
  },
  {
   "cell_type": "markdown",
   "metadata": {},
   "source": [
    "Pivot the data to make it easier to analyze."
   ]
  },
  {
   "cell_type": "code",
   "execution_count": 14,
   "metadata": {},
   "outputs": [
    {
     "data": {
      "text/html": [
       "<div>\n",
       "<style scoped>\n",
       "    .dataframe tbody tr th:only-of-type {\n",
       "        vertical-align: middle;\n",
       "    }\n",
       "\n",
       "    .dataframe tbody tr th {\n",
       "        vertical-align: top;\n",
       "    }\n",
       "\n",
       "    .dataframe thead th {\n",
       "        text-align: right;\n",
       "    }\n",
       "</style>\n",
       "<table border=\"1\" class=\"dataframe\">\n",
       "  <thead>\n",
       "    <tr style=\"text-align: right;\">\n",
       "      <th></th>\n",
       "      <th>Series Name</th>\n",
       "      <th>Country Name</th>\n",
       "      <th>Year</th>\n",
       "      <th>Value</th>\n",
       "    </tr>\n",
       "  </thead>\n",
       "  <tbody>\n",
       "    <tr>\n",
       "      <th>0</th>\n",
       "      <td>Unemployment, total (% of total labor force)</td>\n",
       "      <td>Argentina</td>\n",
       "      <td>2014 [YR2014]</td>\n",
       "      <td>7.268</td>\n",
       "    </tr>\n",
       "    <tr>\n",
       "      <th>1</th>\n",
       "      <td>Unemployment, total (% of total labor force)</td>\n",
       "      <td>Armenia</td>\n",
       "      <td>2014 [YR2014]</td>\n",
       "      <td>12.201</td>\n",
       "    </tr>\n",
       "    <tr>\n",
       "      <th>2</th>\n",
       "      <td>Unemployment, total (% of total labor force)</td>\n",
       "      <td>Argentina</td>\n",
       "      <td>2015 [YR2015]</td>\n",
       "      <td>7.58</td>\n",
       "    </tr>\n",
       "    <tr>\n",
       "      <th>3</th>\n",
       "      <td>Unemployment, total (% of total labor force)</td>\n",
       "      <td>Armenia</td>\n",
       "      <td>2015 [YR2015]</td>\n",
       "      <td>12.468</td>\n",
       "    </tr>\n",
       "    <tr>\n",
       "      <th>4</th>\n",
       "      <td>Unemployment, total (% of total labor force)</td>\n",
       "      <td>Argentina</td>\n",
       "      <td>2016 [YR2016]</td>\n",
       "      <td>8.083</td>\n",
       "    </tr>\n",
       "    <tr>\n",
       "      <th>5</th>\n",
       "      <td>Unemployment, total (% of total labor force)</td>\n",
       "      <td>Armenia</td>\n",
       "      <td>2016 [YR2016]</td>\n",
       "      <td>12.732</td>\n",
       "    </tr>\n",
       "    <tr>\n",
       "      <th>6</th>\n",
       "      <td>Unemployment, total (% of total labor force)</td>\n",
       "      <td>Argentina</td>\n",
       "      <td>2017 [YR2017]</td>\n",
       "      <td>8.347</td>\n",
       "    </tr>\n",
       "    <tr>\n",
       "      <th>7</th>\n",
       "      <td>Unemployment, total (% of total labor force)</td>\n",
       "      <td>Armenia</td>\n",
       "      <td>2017 [YR2017]</td>\n",
       "      <td>12.968</td>\n",
       "    </tr>\n",
       "    <tr>\n",
       "      <th>8</th>\n",
       "      <td>Unemployment, total (% of total labor force)</td>\n",
       "      <td>Argentina</td>\n",
       "      <td>2018 [YR2018]</td>\n",
       "      <td>9.221</td>\n",
       "    </tr>\n",
       "    <tr>\n",
       "      <th>9</th>\n",
       "      <td>Unemployment, total (% of total labor force)</td>\n",
       "      <td>Armenia</td>\n",
       "      <td>2018 [YR2018]</td>\n",
       "      <td>13.212</td>\n",
       "    </tr>\n",
       "    <tr>\n",
       "      <th>10</th>\n",
       "      <td>Unemployment, total (% of total labor force)</td>\n",
       "      <td>Argentina</td>\n",
       "      <td>2019 [YR2019]</td>\n",
       "      <td>9.843</td>\n",
       "    </tr>\n",
       "    <tr>\n",
       "      <th>11</th>\n",
       "      <td>Unemployment, total (% of total labor force)</td>\n",
       "      <td>Armenia</td>\n",
       "      <td>2019 [YR2019]</td>\n",
       "      <td>12.2</td>\n",
       "    </tr>\n",
       "    <tr>\n",
       "      <th>12</th>\n",
       "      <td>Unemployment, total (% of total labor force)</td>\n",
       "      <td>Argentina</td>\n",
       "      <td>2020 [YR2020]</td>\n",
       "      <td>11.461</td>\n",
       "    </tr>\n",
       "    <tr>\n",
       "      <th>13</th>\n",
       "      <td>Unemployment, total (% of total labor force)</td>\n",
       "      <td>Armenia</td>\n",
       "      <td>2020 [YR2020]</td>\n",
       "      <td>12.18</td>\n",
       "    </tr>\n",
       "    <tr>\n",
       "      <th>14</th>\n",
       "      <td>Unemployment, total (% of total labor force)</td>\n",
       "      <td>Argentina</td>\n",
       "      <td>2021 [YR2021]</td>\n",
       "      <td>8.736</td>\n",
       "    </tr>\n",
       "    <tr>\n",
       "      <th>15</th>\n",
       "      <td>Unemployment, total (% of total labor force)</td>\n",
       "      <td>Armenia</td>\n",
       "      <td>2021 [YR2021]</td>\n",
       "      <td>10.012</td>\n",
       "    </tr>\n",
       "    <tr>\n",
       "      <th>16</th>\n",
       "      <td>Unemployment, total (% of total labor force)</td>\n",
       "      <td>Argentina</td>\n",
       "      <td>2022 [YR2022]</td>\n",
       "      <td>6.805</td>\n",
       "    </tr>\n",
       "    <tr>\n",
       "      <th>17</th>\n",
       "      <td>Unemployment, total (% of total labor force)</td>\n",
       "      <td>Armenia</td>\n",
       "      <td>2022 [YR2022]</td>\n",
       "      <td>8.608</td>\n",
       "    </tr>\n",
       "    <tr>\n",
       "      <th>18</th>\n",
       "      <td>Unemployment, total (% of total labor force)</td>\n",
       "      <td>Argentina</td>\n",
       "      <td>2023 [YR2023]</td>\n",
       "      <td>6.178</td>\n",
       "    </tr>\n",
       "    <tr>\n",
       "      <th>19</th>\n",
       "      <td>Unemployment, total (% of total labor force)</td>\n",
       "      <td>Armenia</td>\n",
       "      <td>2023 [YR2023]</td>\n",
       "      <td>8.586</td>\n",
       "    </tr>\n",
       "  </tbody>\n",
       "</table>\n",
       "</div>"
      ],
      "text/plain": [
       "                                     Series Name Country Name           Year  \\\n",
       "0   Unemployment, total (% of total labor force)    Argentina  2014 [YR2014]   \n",
       "1   Unemployment, total (% of total labor force)      Armenia  2014 [YR2014]   \n",
       "2   Unemployment, total (% of total labor force)    Argentina  2015 [YR2015]   \n",
       "3   Unemployment, total (% of total labor force)      Armenia  2015 [YR2015]   \n",
       "4   Unemployment, total (% of total labor force)    Argentina  2016 [YR2016]   \n",
       "5   Unemployment, total (% of total labor force)      Armenia  2016 [YR2016]   \n",
       "6   Unemployment, total (% of total labor force)    Argentina  2017 [YR2017]   \n",
       "7   Unemployment, total (% of total labor force)      Armenia  2017 [YR2017]   \n",
       "8   Unemployment, total (% of total labor force)    Argentina  2018 [YR2018]   \n",
       "9   Unemployment, total (% of total labor force)      Armenia  2018 [YR2018]   \n",
       "10  Unemployment, total (% of total labor force)    Argentina  2019 [YR2019]   \n",
       "11  Unemployment, total (% of total labor force)      Armenia  2019 [YR2019]   \n",
       "12  Unemployment, total (% of total labor force)    Argentina  2020 [YR2020]   \n",
       "13  Unemployment, total (% of total labor force)      Armenia  2020 [YR2020]   \n",
       "14  Unemployment, total (% of total labor force)    Argentina  2021 [YR2021]   \n",
       "15  Unemployment, total (% of total labor force)      Armenia  2021 [YR2021]   \n",
       "16  Unemployment, total (% of total labor force)    Argentina  2022 [YR2022]   \n",
       "17  Unemployment, total (% of total labor force)      Armenia  2022 [YR2022]   \n",
       "18  Unemployment, total (% of total labor force)    Argentina  2023 [YR2023]   \n",
       "19  Unemployment, total (% of total labor force)      Armenia  2023 [YR2023]   \n",
       "\n",
       "     Value  \n",
       "0    7.268  \n",
       "1   12.201  \n",
       "2     7.58  \n",
       "3   12.468  \n",
       "4    8.083  \n",
       "5   12.732  \n",
       "6    8.347  \n",
       "7   12.968  \n",
       "8    9.221  \n",
       "9   13.212  \n",
       "10   9.843  \n",
       "11    12.2  \n",
       "12  11.461  \n",
       "13   12.18  \n",
       "14   8.736  \n",
       "15  10.012  \n",
       "16   6.805  \n",
       "17   8.608  \n",
       "18   6.178  \n",
       "19   8.586  "
      ]
     },
     "execution_count": 14,
     "metadata": {},
     "output_type": "execute_result"
    }
   ],
   "source": [
    "# Pivot the year columns\n",
    "df_pivoted = pd.melt(df3, id_vars=['Series Name', 'Country Name'], \n",
    "                     var_name='Year', value_name='Value')\n",
    "\n",
    "# Display the pivoted DataFrame\n",
    "df_pivoted\n"
   ]
  },
  {
   "cell_type": "markdown",
   "metadata": {},
   "source": [
    "## Load\n",
    "Craete a new excle file and load the data into the excel"
   ]
  },
  {
   "cell_type": "markdown",
   "metadata": {},
   "source": [
    "Get the current directory where the code is being executed"
   ]
  },
  {
   "cell_type": "code",
   "execution_count": 21,
   "metadata": {},
   "outputs": [],
   "source": [
    "import os\n",
    "import xlwings as xw\n",
    "\n",
    "current_directory = os.getcwd()"
   ]
  },
  {
   "cell_type": "markdown",
   "metadata": {},
   "source": [
    "Define the path for the new file:"
   ]
  },
  {
   "cell_type": "code",
   "execution_count": 30,
   "metadata": {},
   "outputs": [],
   "source": [
    "# Define the path for the new Excel file\n",
    "new_excel_path = os.path.join(current_directory, 'NewFile.xlsx')\n"
   ]
  },
  {
   "cell_type": "markdown",
   "metadata": {},
   "source": [
    "Create the new Excel file:"
   ]
  },
  {
   "cell_type": "code",
   "execution_count": 31,
   "metadata": {},
   "outputs": [],
   "source": [
    "# Create a new Excel workbook\n",
    "plantilla_excel = xw.Book()\n",
    "\n",
    "resumen= plantilla_excel.sheets['Hoja1']"
   ]
  },
  {
   "cell_type": "markdown",
   "metadata": {},
   "source": [
    "**Insert the DataFrame Information into the Excel File**\n"
   ]
  },
  {
   "cell_type": "code",
   "execution_count": 32,
   "metadata": {},
   "outputs": [],
   "source": [
    "# Assuming 'data' is a DataFrame, get the list of column names\n",
    "columnas = df_pivoted.columns.tolist()\n",
    "\n",
    "# Write the column names to cell B2 in the worksheet\n",
    "resumen.range('A1').value = columnas\n",
    "\n",
    "# Write the DataFrame values starting from cell B3 in the worksheet\n",
    "resumen.range('A2').value = df_pivoted.values"
   ]
  },
  {
   "cell_type": "markdown",
   "metadata": {},
   "source": [
    "Save the file with a descriptive name that reflects the information contained in the file."
   ]
  },
  {
   "cell_type": "code",
   "execution_count": 35,
   "metadata": {},
   "outputs": [],
   "source": [
    "# Format the filters into strings\n",
    "series_name_str = ', '.join(filter_series_name)\n",
    "country_name_str = ', '.join(filter_country_name)\n",
    "\n",
    "# Create the filename with the filters included\n",
    "filename = f\"Series_{series_name_str}_Countries_{country_name_str}.xlsx\"\n",
    "\n",
    "# Save the Excel file\n",
    "plantilla_excel.save(filename)\n",
    "\n",
    "# Cerrar el archivo Excel\n",
    "plantilla_excel.close()"
   ]
  }
 ],
 "metadata": {
  "kernelspec": {
   "display_name": "Python 3",
   "language": "python",
   "name": "python3"
  },
  "language_info": {
   "codemirror_mode": {
    "name": "ipython",
    "version": 3
   },
   "file_extension": ".py",
   "mimetype": "text/x-python",
   "name": "python",
   "nbconvert_exporter": "python",
   "pygments_lexer": "ipython3",
   "version": "3.12.4"
  }
 },
 "nbformat": 4,
 "nbformat_minor": 2
}
